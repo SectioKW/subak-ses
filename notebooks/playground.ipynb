{
 "cells": [
  {
   "cell_type": "code",
   "execution_count": 5,
   "id": "90c04351",
   "metadata": {},
   "outputs": [
    {
     "ename": "ImportError",
     "evalue": "cannot import name 'run_simulation' from 'subak_ses' (F:\\Research\\subak-ses\\src\\subak_ses\\__init__.py)",
     "output_type": "error",
     "traceback": [
      "\u001b[31m---------------------------------------------------------------------------\u001b[39m",
      "\u001b[31mImportError\u001b[39m                               Traceback (most recent call last)",
      "\u001b[36mCell\u001b[39m\u001b[36m \u001b[39m\u001b[32mIn[5]\u001b[39m\u001b[32m, line 2\u001b[39m\n\u001b[32m      1\u001b[39m \u001b[38;5;28;01mimport\u001b[39;00m\u001b[38;5;250m \u001b[39m\u001b[34;01mmatplotlib\u001b[39;00m\u001b[34;01m.\u001b[39;00m\u001b[34;01mpyplot\u001b[39;00m\u001b[38;5;250m \u001b[39m\u001b[38;5;28;01mas\u001b[39;00m\u001b[38;5;250m \u001b[39m\u001b[34;01mplt\u001b[39;00m\n\u001b[32m----> \u001b[39m\u001b[32m2\u001b[39m \u001b[38;5;28;01mfrom\u001b[39;00m\u001b[38;5;250m \u001b[39m\u001b[34;01msubak_ses\u001b[39;00m\u001b[38;5;250m \u001b[39m\u001b[38;5;28;01mimport\u001b[39;00m run_simulation\n\u001b[32m      3\u001b[39m \u001b[38;5;28;01mfrom\u001b[39;00m\u001b[38;5;250m \u001b[39m\u001b[34;01msubak_ses\u001b[39;00m\u001b[34;01m.\u001b[39;00m\u001b[34;01mconfig\u001b[39;00m\u001b[38;5;250m \u001b[39m\u001b[38;5;28;01mimport\u001b[39;00m default_state, default_params\n\u001b[32m      5\u001b[39m \u001b[38;5;66;03m# Run for 120 months (10 years)\u001b[39;00m\n",
      "\u001b[31mImportError\u001b[39m: cannot import name 'run_simulation' from 'subak_ses' (F:\\Research\\subak-ses\\src\\subak_ses\\__init__.py)"
     ]
    }
   ],
   "source": [
    "import matplotlib.pyplot as plt\n",
    "from subak_ses import run_simulation\n",
    "from subak_ses.config import default_state, default_params\n",
    "\n",
    "# Run for 120 months (10 years)\n",
    "result = run_simulation(\n",
    "    state=default_state,\n",
    "    params=default_params,\n",
    "    span=(0, 120)\n",
    ")\n",
    "\n",
    "t = result[\"t\"]\n",
    "W, P, T, G = result[\"y\"]\n",
    "\n",
    "plt.figure(figsize=(10,6))\n",
    "plt.plot(t, W, label=\"Water (W)\")\n",
    "plt.plot(t, P, label=\"Rice (P)\")\n",
    "plt.plot(t, T, label=\"Tourism (T)\")\n",
    "plt.plot(t, G, label=\"Governance (G)\")\n",
    "plt.xlabel(\"Time (months)\")\n",
    "plt.ylabel(\"State values\")\n",
    "plt.legend()\n",
    "plt.title(\"Subak SES Dynamics\")\n",
    "plt.show()\n"
   ]
  },
  {
   "cell_type": "code",
   "execution_count": null,
   "id": "eb03220b",
   "metadata": {},
   "outputs": [],
   "source": []
  }
 ],
 "metadata": {
  "kernelspec": {
   "display_name": "subak-ses-n2aWdUv2-py3.12",
   "language": "python",
   "name": "python3"
  },
  "language_info": {
   "codemirror_mode": {
    "name": "ipython",
    "version": 3
   },
   "file_extension": ".py",
   "mimetype": "text/x-python",
   "name": "python",
   "nbconvert_exporter": "python",
   "pygments_lexer": "ipython3",
   "version": "3.12.3"
  }
 },
 "nbformat": 4,
 "nbformat_minor": 5
}
